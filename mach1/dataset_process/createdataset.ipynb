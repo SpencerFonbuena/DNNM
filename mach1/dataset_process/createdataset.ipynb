{
 "cells": [
  {
   "cell_type": "markdown",
   "metadata": {},
   "source": [
    "# Boring Pre-req loading data and packages"
   ]
  },
  {
   "cell_type": "code",
   "execution_count": 17,
   "metadata": {},
   "outputs": [],
   "source": [
    "import pandas as pd\n",
    "import numpy as np\n",
    "import matplotlib.pyplot as plt\n",
    "import torch\n"
   ]
  },
  {
   "cell_type": "code",
   "execution_count": 18,
   "metadata": {},
   "outputs": [],
   "source": [
    "df = pd.read_csv('/Users/spencerfonbuena/Desktop/AAPL_1hour.txt', header=None, names = ['Date', 'Open', 'High', 'Low', 'Close', 'Volume'], sep=',', parse_dates=['Date'], index_col=0)"
   ]
  },
  {
   "cell_type": "code",
   "execution_count": 19,
   "metadata": {},
   "outputs": [
    {
     "data": {
      "text/html": [
       "<div>\n",
       "<style scoped>\n",
       "    .dataframe tbody tr th:only-of-type {\n",
       "        vertical-align: middle;\n",
       "    }\n",
       "\n",
       "    .dataframe tbody tr th {\n",
       "        vertical-align: top;\n",
       "    }\n",
       "\n",
       "    .dataframe thead th {\n",
       "        text-align: right;\n",
       "    }\n",
       "</style>\n",
       "<table border=\"1\" class=\"dataframe\">\n",
       "  <thead>\n",
       "    <tr style=\"text-align: right;\">\n",
       "      <th></th>\n",
       "      <th>Open</th>\n",
       "      <th>High</th>\n",
       "      <th>Low</th>\n",
       "      <th>Close</th>\n",
       "      <th>Volume</th>\n",
       "    </tr>\n",
       "    <tr>\n",
       "      <th>Date</th>\n",
       "      <th></th>\n",
       "      <th></th>\n",
       "      <th></th>\n",
       "      <th></th>\n",
       "      <th></th>\n",
       "    </tr>\n",
       "  </thead>\n",
       "  <tbody>\n",
       "    <tr>\n",
       "      <th>2005-01-03 08:00:00</th>\n",
       "      <td>0.9879</td>\n",
       "      <td>0.9925</td>\n",
       "      <td>0.9803</td>\n",
       "      <td>0.9879</td>\n",
       "      <td>5910576</td>\n",
       "    </tr>\n",
       "    <tr>\n",
       "      <th>2005-01-03 09:00:00</th>\n",
       "      <td>0.9879</td>\n",
       "      <td>0.9896</td>\n",
       "      <td>0.9598</td>\n",
       "      <td>0.9667</td>\n",
       "      <td>183156512</td>\n",
       "    </tr>\n",
       "    <tr>\n",
       "      <th>2005-01-03 10:00:00</th>\n",
       "      <td>0.9670</td>\n",
       "      <td>0.9689</td>\n",
       "      <td>0.9515</td>\n",
       "      <td>0.9589</td>\n",
       "      <td>180934992</td>\n",
       "    </tr>\n",
       "    <tr>\n",
       "      <th>2005-01-03 11:00:00</th>\n",
       "      <td>0.9586</td>\n",
       "      <td>0.9659</td>\n",
       "      <td>0.9545</td>\n",
       "      <td>0.9630</td>\n",
       "      <td>80163776</td>\n",
       "    </tr>\n",
       "    <tr>\n",
       "      <th>2005-01-03 12:00:00</th>\n",
       "      <td>0.9630</td>\n",
       "      <td>0.9670</td>\n",
       "      <td>0.9591</td>\n",
       "      <td>0.9659</td>\n",
       "      <td>44763040</td>\n",
       "    </tr>\n",
       "    <tr>\n",
       "      <th>...</th>\n",
       "      <td>...</td>\n",
       "      <td>...</td>\n",
       "      <td>...</td>\n",
       "      <td>...</td>\n",
       "      <td>...</td>\n",
       "    </tr>\n",
       "    <tr>\n",
       "      <th>2023-03-10 15:00:00</th>\n",
       "      <td>148.6600</td>\n",
       "      <td>148.7700</td>\n",
       "      <td>147.6096</td>\n",
       "      <td>148.4800</td>\n",
       "      <td>10525699</td>\n",
       "    </tr>\n",
       "    <tr>\n",
       "      <th>2023-03-10 16:00:00</th>\n",
       "      <td>148.4800</td>\n",
       "      <td>149.1600</td>\n",
       "      <td>148.3400</td>\n",
       "      <td>149.0800</td>\n",
       "      <td>8365405</td>\n",
       "    </tr>\n",
       "    <tr>\n",
       "      <th>2023-03-10 17:00:00</th>\n",
       "      <td>149.0400</td>\n",
       "      <td>149.0400</td>\n",
       "      <td>148.5000</td>\n",
       "      <td>148.7600</td>\n",
       "      <td>68331</td>\n",
       "    </tr>\n",
       "    <tr>\n",
       "      <th>2023-03-10 18:00:00</th>\n",
       "      <td>148.7600</td>\n",
       "      <td>148.8100</td>\n",
       "      <td>148.5000</td>\n",
       "      <td>148.5100</td>\n",
       "      <td>16036</td>\n",
       "    </tr>\n",
       "    <tr>\n",
       "      <th>2023-03-10 19:00:00</th>\n",
       "      <td>148.4500</td>\n",
       "      <td>148.6000</td>\n",
       "      <td>148.2500</td>\n",
       "      <td>148.6000</td>\n",
       "      <td>20664</td>\n",
       "    </tr>\n",
       "  </tbody>\n",
       "</table>\n",
       "<p>68672 rows × 5 columns</p>\n",
       "</div>"
      ],
      "text/plain": [
       "                         Open      High       Low     Close     Volume\n",
       "Date                                                                  \n",
       "2005-01-03 08:00:00    0.9879    0.9925    0.9803    0.9879    5910576\n",
       "2005-01-03 09:00:00    0.9879    0.9896    0.9598    0.9667  183156512\n",
       "2005-01-03 10:00:00    0.9670    0.9689    0.9515    0.9589  180934992\n",
       "2005-01-03 11:00:00    0.9586    0.9659    0.9545    0.9630   80163776\n",
       "2005-01-03 12:00:00    0.9630    0.9670    0.9591    0.9659   44763040\n",
       "...                       ...       ...       ...       ...        ...\n",
       "2023-03-10 15:00:00  148.6600  148.7700  147.6096  148.4800   10525699\n",
       "2023-03-10 16:00:00  148.4800  149.1600  148.3400  149.0800    8365405\n",
       "2023-03-10 17:00:00  149.0400  149.0400  148.5000  148.7600      68331\n",
       "2023-03-10 18:00:00  148.7600  148.8100  148.5000  148.5100      16036\n",
       "2023-03-10 19:00:00  148.4500  148.6000  148.2500  148.6000      20664\n",
       "\n",
       "[68672 rows x 5 columns]"
      ]
     },
     "execution_count": 19,
     "metadata": {},
     "output_type": "execute_result"
    }
   ],
   "source": [
    "df"
   ]
  },
  {
   "cell_type": "code",
   "execution_count": 16,
   "metadata": {},
   "outputs": [],
   "source": [
    "df.to_csv('/Users/spencerfonbuena/Desktop/AAPL_1hour_expanded_test10.txt')"
   ]
  },
  {
   "cell_type": "markdown",
   "metadata": {},
   "source": [
    "## Method for creating the labels"
   ]
  },
  {
   "cell_type": "code",
   "execution_count": 23,
   "metadata": {},
   "outputs": [
    {
     "name": "stdout",
     "output_type": "stream",
     "text": [
      "Date\n",
      "2005-01-03 08:00:00      0.9879\n",
      "2005-01-03 09:00:00      0.9667\n",
      "2005-01-03 10:00:00      0.9589\n",
      "2005-01-03 11:00:00      0.9630\n",
      "2005-01-03 12:00:00      0.9659\n",
      "                         ...   \n",
      "2023-03-10 15:00:00    148.4800\n",
      "2023-03-10 16:00:00    149.0800\n",
      "2023-03-10 17:00:00    148.7600\n",
      "2023-03-10 18:00:00    148.5100\n",
      "2023-03-10 19:00:00    148.6000\n",
      "Name: Close, Length: 68672, dtype: float64\n"
     ]
    }
   ],
   "source": [
    "def create_labels(df):\n",
    "\n",
    "    A = 0\n",
    "    C = 0\n",
    "    labels = np.array([])\n",
    "    \n",
    "    print(df)\n",
    "    for i in range(0, (len(df))):\n",
    "\n",
    "\n",
    "        #find 1 percent and 2 percent above and below\n",
    "        #print(df[A])\n",
    "        one_low = df[A] * .99\n",
    "        two_low = df[A] * .98\n",
    "        one_high = df[A] * 1.01\n",
    "        two_high = df[A] * 1.02\n",
    "\n",
    "        #print(f'1 low: {one_low} | 2 low: {two_low} | 1 high: {one_high} | 2 high: {two_high}')\n",
    "        #initialize the label counter\n",
    "        label_counter = A\n",
    "\n",
    "        #this is to make sure that once it either enters the \"gone up by one percent\" or \"gone down by 1 percent\"\n",
    "        #it doesn't enter the other while loops\n",
    "        pathway = 0\n",
    "\n",
    "        try:\n",
    "            #look for the instance when the price increases or decreases by 1 percent\n",
    "            while df[label_counter] >= one_low and df[label_counter] <= one_high:\n",
    "                label_counter += 1\n",
    "                #print(df[label_counter])\n",
    "            #If the price moved up 1 pecent first, this while loop will trigger and check if it is a two to one, or a one to one trade\n",
    "            while df[label_counter] >= one_low and df[label_counter] <= two_high:\n",
    "                label_counter += 1\n",
    "                pathway = 1\n",
    "                #print(df[label_counter])\n",
    "            #Check if price has increased two percent\n",
    "            if df[label_counter] >= two_high:\n",
    "                labels = np.append(labels, 3)\n",
    "                pathway = 1\n",
    "                #print(df[label_counter])\n",
    "            #check if price has reversed back down to the one percent marker\n",
    "            if df[label_counter] <= one_low and pathway == 1:\n",
    "                labels = np.append(labels, 2)\n",
    "                #print(df[label_counter])\n",
    "            \n",
    "            #if the price moved down 1 pecent first, this will check if it is a two to one, or a one to one trade\n",
    "            while df[label_counter] <= one_high and df[label_counter] >= two_low and pathway != 1:\n",
    "                label_counter += 1\n",
    "                pathway = 2\n",
    "                #print(df[label_counter])\n",
    "        \n",
    "            #check if the price has continued down two percent\n",
    "            if df[label_counter] <= two_low and pathway != 1:\n",
    "                labels = np.append(labels, 0)\n",
    "                #print(df[label_counter])\n",
    "            #check if price reversed back up to the 1 percent above marker\n",
    "            if df[label_counter] >= one_high and pathway != 1:\n",
    "                labels = np.append(labels, 1)\n",
    "                #print(df[label_counter])\n",
    "            \n",
    "            #temporarily store the last label that was added to \"labels=[]\"\n",
    "            C = labels[-1]\n",
    "\n",
    "        except:\n",
    "            break\n",
    "        #increment the graph by one time interval\n",
    "        A += 1 \n",
    "\n",
    "    #Create an array with the last value before the classification algorithm stopped\n",
    "    array_append = []\n",
    "    while A < len(df):\n",
    "        array_append = np.append(array_append, C)\n",
    "        A += 1\n",
    "        \n",
    "\n",
    "    labels = np.append(labels, array_append)\n",
    "    return labels\n",
    "df['Labels'] = create_labels(df['Close'])"
   ]
  },
  {
   "cell_type": "markdown",
   "metadata": {},
   "source": [
    "### Moving averages"
   ]
  },
  {
   "cell_type": "code",
   "execution_count": 20,
   "metadata": {},
   "outputs": [],
   "source": [
    "#50 period moving average\n",
    "df['50SMA'] = df['Close'].rolling(50).mean()\n",
    "\n",
    "#200 period moving average\n",
    "df['200SMA'] = df['Close'].rolling(200).mean()"
   ]
  },
  {
   "attachments": {},
   "cell_type": "markdown",
   "metadata": {},
   "source": [
    "### RSI"
   ]
  },
  {
   "cell_type": "code",
   "execution_count": 21,
   "metadata": {},
   "outputs": [],
   "source": [
    "def RSI(df, lookback):\n",
    "    deltas = np.diff(df)\n",
    "    seed = deltas[:lookback+1]\n",
    "    up = seed[seed>= 0].sum()/lookback\n",
    "    down = -seed[seed < 0].sum()/lookback\n",
    "    rs = up/down\n",
    "    rsi = np.zeros_like(df)\n",
    "    \n",
    "    for i in range(lookback, len(df)):\n",
    "        delta = deltas[i-1]\n",
    "\n",
    "        if delta > 0:\n",
    "            upval = delta\n",
    "            downval = 0.\n",
    "        if delta < 0:\n",
    "            upval = 0\n",
    "            downval=abs(delta)\n",
    "        up = (up * (lookback - 1) + upval) / lookback\n",
    "        down = (down * (lookback - 1) + downval) / lookback\n",
    "\n",
    "        rs = up/down\n",
    "        rsi[i] = 100. - 100./(1. +rs)\n",
    "\n",
    "    return rsi\n",
    "df['RSI'] = RSI(df['Close'], 14)\n",
    "    \n"
   ]
  },
  {
   "cell_type": "markdown",
   "metadata": {},
   "source": [
    "### Calculating on balance volume"
   ]
  },
  {
   "cell_type": "code",
   "execution_count": 22,
   "metadata": {},
   "outputs": [],
   "source": [
    "def onBalanceVolume(df, volume):\n",
    "    OBV_INTER = 0\n",
    "    counter = 0\n",
    "    OBV = np.array([0])\n",
    "    \n",
    "    for i in df:\n",
    "        try:\n",
    "            if df[counter + 1] > df[counter]:\n",
    "                OBV_INTER = OBV_INTER + volume[counter]\n",
    "                OBV = np.append(OBV, OBV_INTER)\n",
    "            elif df[counter + 1] < df [counter]:\n",
    "                OBV_INTER = OBV_INTER - volume[counter]\n",
    "                OBV = np.append(OBV, OBV_INTER)\n",
    "            elif df[counter + 1] == df[counter]:\n",
    "                OBV = np.append(OBV, volume[counter])\n",
    "            counter += 1\n",
    "        except:\n",
    "            break\n",
    "    \n",
    "    return OBV\n",
    "df['OBV'] = onBalanceVolume(df['Close'], df['Volume'])"
   ]
  },
  {
   "cell_type": "code",
   "execution_count": 6,
   "metadata": {},
   "outputs": [
    {
     "data": {
      "text/plain": [
       "(68672, 9)"
      ]
     },
     "execution_count": 6,
     "metadata": {},
     "output_type": "execute_result"
    }
   ],
   "source": [
    "df.shape"
   ]
  },
  {
   "cell_type": "markdown",
   "metadata": {},
   "source": [
    "## Method for windowing the data"
   ]
  },
  {
   "cell_type": "code",
   "execution_count": 15,
   "metadata": {},
   "outputs": [
    {
     "name": "stdout",
     "output_type": "stream",
     "text": [
      "0\n",
      "1000\n",
      "2000\n",
      "3000\n",
      "4000\n",
      "5000\n",
      "6000\n",
      "7000\n",
      "8000\n",
      "9000\n",
      "10000\n",
      "11000\n",
      "12000\n",
      "13000\n",
      "14000\n",
      "15000\n",
      "16000\n",
      "17000\n",
      "18000\n",
      "19000\n",
      "20000\n",
      "21000\n",
      "22000\n",
      "23000\n",
      "24000\n",
      "25000\n",
      "26000\n",
      "27000\n",
      "28000\n",
      "29000\n",
      "30000\n",
      "31000\n",
      "32000\n",
      "33000\n",
      "34000\n",
      "35000\n",
      "36000\n",
      "37000\n",
      "38000\n",
      "39000\n",
      "40000\n",
      "41000\n",
      "42000\n",
      "43000\n",
      "44000\n",
      "45000\n",
      "46000\n",
      "47000\n",
      "48000\n",
      "49000\n",
      "50000\n",
      "51000\n",
      "52000\n",
      "53000\n",
      "54000\n",
      "55000\n",
      "56000\n",
      "57000\n",
      "58000\n",
      "59000\n",
      "60000\n",
      "61000\n",
      "62000\n",
      "63000\n",
      "64000\n",
      "65000\n",
      "66000\n",
      "67000\n",
      "68000\n"
     ]
    }
   ],
   "source": [
    "def window_dataset(df, window_size):\n",
    "    A = 0\n",
    "    window_set = []\n",
    "    for i in range(len(df) - 100):\n",
    "        example = df[i: window_size + i]\n",
    "        window_set.append(np.expand_dims(example, 0))\n",
    "        if i % 1000 == 0:\n",
    "            print(i)\n",
    "    return torch.tensor(np.vstack(window_set)).transpose(-1,-2)\n",
    "df_expand = window_dataset(df, 100)"
   ]
  },
  {
   "cell_type": "code",
   "execution_count": 11,
   "metadata": {},
   "outputs": [
    {
     "data": {
      "text/plain": [
       "torch.Size([68572, 10, 100])"
      ]
     },
     "execution_count": 11,
     "metadata": {},
     "output_type": "execute_result"
    }
   ],
   "source": [
    "df_expand"
   ]
  },
  {
   "cell_type": "code",
   "execution_count": null,
   "metadata": {},
   "outputs": [],
   "source": []
  },
  {
   "cell_type": "code",
   "execution_count": null,
   "metadata": {},
   "outputs": [],
   "source": []
  }
 ],
 "metadata": {
  "kernelspec": {
   "display_name": "tf",
   "language": "python",
   "name": "python3"
  },
  "language_info": {
   "codemirror_mode": {
    "name": "ipython",
    "version": 3
   },
   "file_extension": ".py",
   "mimetype": "text/x-python",
   "name": "python",
   "nbconvert_exporter": "python",
   "pygments_lexer": "ipython3",
   "version": "3.10.10"
  },
  "orig_nbformat": 4
 },
 "nbformat": 4,
 "nbformat_minor": 2
}
