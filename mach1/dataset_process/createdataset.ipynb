{
 "cells": [
  {
   "cell_type": "markdown",
   "metadata": {},
   "source": [
    "# Boring Pre-req loading data and packages"
   ]
  },
  {
   "cell_type": "code",
   "execution_count": 1,
   "metadata": {},
   "outputs": [],
   "source": [
    "import pandas as pd\n",
    "import numpy as np\n",
    "import matplotlib.pyplot as plt\n",
    "import torch\n"
   ]
  },
  {
   "cell_type": "code",
   "execution_count": 11,
   "metadata": {},
   "outputs": [],
   "source": [
    "df = pd.read_csv('/Users/spencerfonbuena/Desktop/AAPL_1min_expanded.txt', sep=',', index_col=0)"
   ]
  },
  {
   "cell_type": "code",
   "execution_count": 12,
   "metadata": {},
   "outputs": [
    {
     "data": {
      "text/html": [
       "<div>\n",
       "<style scoped>\n",
       "    .dataframe tbody tr th:only-of-type {\n",
       "        vertical-align: middle;\n",
       "    }\n",
       "\n",
       "    .dataframe tbody tr th {\n",
       "        vertical-align: top;\n",
       "    }\n",
       "\n",
       "    .dataframe thead th {\n",
       "        text-align: right;\n",
       "    }\n",
       "</style>\n",
       "<table border=\"1\" class=\"dataframe\">\n",
       "  <thead>\n",
       "    <tr style=\"text-align: right;\">\n",
       "      <th></th>\n",
       "      <th>Open</th>\n",
       "      <th>High</th>\n",
       "      <th>Low</th>\n",
       "      <th>Close</th>\n",
       "      <th>Volume</th>\n",
       "      <th>50SMA</th>\n",
       "      <th>200SMA</th>\n",
       "      <th>RSI</th>\n",
       "      <th>Labels</th>\n",
       "    </tr>\n",
       "    <tr>\n",
       "      <th>Date</th>\n",
       "      <th></th>\n",
       "      <th></th>\n",
       "      <th></th>\n",
       "      <th></th>\n",
       "      <th></th>\n",
       "      <th></th>\n",
       "      <th></th>\n",
       "      <th></th>\n",
       "      <th></th>\n",
       "    </tr>\n",
       "  </thead>\n",
       "  <tbody>\n",
       "    <tr>\n",
       "      <th>11:59:00</th>\n",
       "      <td>1.1321</td>\n",
       "      <td>1.1325</td>\n",
       "      <td>1.1314</td>\n",
       "      <td>1.1314</td>\n",
       "      <td>2031680</td>\n",
       "      <td>1.129352</td>\n",
       "      <td>1.138010</td>\n",
       "      <td>50.774792</td>\n",
       "      <td>3.0</td>\n",
       "    </tr>\n",
       "    <tr>\n",
       "      <th>2005-01-03 12:00:00</th>\n",
       "      <td>1.1314</td>\n",
       "      <td>1.1318</td>\n",
       "      <td>1.1313</td>\n",
       "      <td>1.1313</td>\n",
       "      <td>817712</td>\n",
       "      <td>1.129496</td>\n",
       "      <td>1.137860</td>\n",
       "      <td>50.273455</td>\n",
       "      <td>3.0</td>\n",
       "    </tr>\n",
       "    <tr>\n",
       "      <th>2005-01-03 12:01:00</th>\n",
       "      <td>1.1313</td>\n",
       "      <td>1.1318</td>\n",
       "      <td>1.1298</td>\n",
       "      <td>1.1300</td>\n",
       "      <td>1009624</td>\n",
       "      <td>1.129596</td>\n",
       "      <td>1.137751</td>\n",
       "      <td>44.168013</td>\n",
       "      <td>3.0</td>\n",
       "    </tr>\n",
       "    <tr>\n",
       "      <th>2005-01-03 12:02:00</th>\n",
       "      <td>1.1300</td>\n",
       "      <td>1.1305</td>\n",
       "      <td>1.1300</td>\n",
       "      <td>1.1305</td>\n",
       "      <td>245840</td>\n",
       "      <td>1.129688</td>\n",
       "      <td>1.137590</td>\n",
       "      <td>46.841994</td>\n",
       "      <td>3.0</td>\n",
       "    </tr>\n",
       "    <tr>\n",
       "      <th>2005-01-03 12:03:00</th>\n",
       "      <td>1.1304</td>\n",
       "      <td>1.1305</td>\n",
       "      <td>1.1300</td>\n",
       "      <td>1.1302</td>\n",
       "      <td>675864</td>\n",
       "      <td>1.129778</td>\n",
       "      <td>1.137411</td>\n",
       "      <td>45.435913</td>\n",
       "      <td>3.0</td>\n",
       "    </tr>\n",
       "  </tbody>\n",
       "</table>\n",
       "</div>"
      ],
      "text/plain": [
       "                       Open    High     Low   Close   Volume     50SMA  \\\n",
       "Date                                                                     \n",
       "11:59:00             1.1321  1.1325  1.1314  1.1314  2031680  1.129352   \n",
       "2005-01-03 12:00:00  1.1314  1.1318  1.1313  1.1313   817712  1.129496   \n",
       "2005-01-03 12:01:00  1.1313  1.1318  1.1298  1.1300  1009624  1.129596   \n",
       "2005-01-03 12:02:00  1.1300  1.1305  1.1300  1.1305   245840  1.129688   \n",
       "2005-01-03 12:03:00  1.1304  1.1305  1.1300  1.1302   675864  1.129778   \n",
       "\n",
       "                       200SMA        RSI  Labels  \n",
       "Date                                              \n",
       "11:59:00             1.138010  50.774792     3.0  \n",
       "2005-01-03 12:00:00  1.137860  50.273455     3.0  \n",
       "2005-01-03 12:01:00  1.137751  44.168013     3.0  \n",
       "2005-01-03 12:02:00  1.137590  46.841994     3.0  \n",
       "2005-01-03 12:03:00  1.137411  45.435913     3.0  "
      ]
     },
     "execution_count": 12,
     "metadata": {},
     "output_type": "execute_result"
    }
   ],
   "source": [
    "df.head()"
   ]
  },
  {
   "cell_type": "code",
   "execution_count": 9,
   "metadata": {},
   "outputs": [
    {
     "data": {
      "text/plain": [
       "3.0    1144436\n",
       "0.0     936447\n",
       "1.0     468752\n",
       "2.0     439831\n",
       "Name: Labels, dtype: int64"
      ]
     },
     "execution_count": 9,
     "metadata": {},
     "output_type": "execute_result"
    }
   ],
   "source": [
    "df['Labels'].value_counts()"
   ]
  },
  {
   "cell_type": "code",
   "execution_count": null,
   "metadata": {},
   "outputs": [],
   "source": [
    "df.head()"
   ]
  },
  {
   "cell_type": "code",
   "execution_count": 10,
   "metadata": {},
   "outputs": [],
   "source": [
    "df.to_csv('/Users/spencerfonbuena/Desktop/AAPL_1min_expanded.txt')"
   ]
  },
  {
   "cell_type": "markdown",
   "metadata": {},
   "source": [
    "## Method for creating the labels"
   ]
  },
  {
   "cell_type": "code",
   "execution_count": 7,
   "metadata": {},
   "outputs": [
    {
     "name": "stdout",
     "output_type": "stream",
     "text": [
      "Date\n",
      "2005-01-03 08:00:00      1.1613\n",
      "2005-01-03 08:02:00      1.1518\n",
      "2005-01-03 08:03:00      1.1627\n",
      "2005-01-03 08:04:00      1.1661\n",
      "2005-01-03 08:07:00      1.1643\n",
      "                         ...   \n",
      "2023-05-18 19:42:00    175.7500\n",
      "2023-05-18 19:44:00    175.7500\n",
      "2023-05-18 19:45:00    175.7200\n",
      "2023-05-18 19:47:00    175.7700\n",
      "2023-05-18 19:48:00    175.8500\n",
      "Name: Close, Length: 2989466, dtype: float64\n"
     ]
    }
   ],
   "source": [
    "def create_labels(df):\n",
    "\n",
    "    A = 0\n",
    "    C = 0\n",
    "    labels = np.array([])\n",
    "    \n",
    "    print(df)\n",
    "    for i in range(0, (len(df))):\n",
    "\n",
    "\n",
    "        #find 1 percent and 2 percent above and below\n",
    "        #print(df[A])\n",
    "        one_low = df[A] * .99\n",
    "        two_low = df[A] * .98\n",
    "        one_high = df[A] * 1.01\n",
    "        two_high = df[A] * 1.02\n",
    "\n",
    "        #print(f'1 low: {one_low} | 2 low: {two_low} | 1 high: {one_high} | 2 high: {two_high}')\n",
    "        #initialize the label counter\n",
    "        label_counter = A\n",
    "\n",
    "        #this is to make sure that once it either enters the \"gone up by one percent\" or \"gone down by 1 percent\"\n",
    "        #it doesn't enter the other while loops\n",
    "        pathway = 0\n",
    "\n",
    "        try:\n",
    "            #look for the instance when the price increases or decreases by 1 percent\n",
    "            while df[label_counter] >= one_low and df[label_counter] <= one_high:\n",
    "                label_counter += 1\n",
    "                #print(df[label_counter])\n",
    "            #If the price moved up 1 pecent first, this while loop will trigger and check if it is a two to one, or a one to one trade\n",
    "            while df[label_counter] >= one_low and df[label_counter] <= two_high:\n",
    "                label_counter += 1\n",
    "                pathway = 1\n",
    "                #print(df[label_counter])\n",
    "            #Check if price has increased two percent\n",
    "            if df[label_counter] >= two_high:\n",
    "                labels = np.append(labels, 3)\n",
    "                pathway = 1\n",
    "                #print(df[label_counter])\n",
    "            #check if price has reversed back down to the one percent marker\n",
    "            if df[label_counter] <= one_low and pathway == 1:\n",
    "                labels = np.append(labels, 2)\n",
    "                #print(df[label_counter])\n",
    "            \n",
    "            #if the price moved down 1 pecent first, this will check if it is a two to one, or a one to one trade\n",
    "            while df[label_counter] <= one_high and df[label_counter] >= two_low and pathway != 1:\n",
    "                label_counter += 1\n",
    "                pathway = 2\n",
    "                #print(df[label_counter])\n",
    "        \n",
    "            #check if the price has continued down two percent\n",
    "            if df[label_counter] <= two_low and pathway != 1:\n",
    "                labels = np.append(labels, 0)\n",
    "                #print(df[label_counter])\n",
    "            #check if price reversed back up to the 1 percent above marker\n",
    "            if df[label_counter] >= one_high and pathway != 1:\n",
    "                labels = np.append(labels, 1)\n",
    "                #print(df[label_counter])\n",
    "            \n",
    "            #temporarily store the last label that was added to \"labels=[]\"\n",
    "            C = labels[-1]\n",
    "\n",
    "        except:\n",
    "            break\n",
    "        #increment the graph by one time interval\n",
    "        A += 1 \n",
    "\n",
    "    #Create an array with the last value before the classification algorithm stopped\n",
    "    array_append = []\n",
    "    while A < len(df):\n",
    "        array_append = np.append(array_append, C)\n",
    "        A += 1\n",
    "        \n",
    "\n",
    "    labels = np.append(labels, array_append)\n",
    "    return labels\n",
    "df['Labels'] = create_labels(df['Close'])"
   ]
  },
  {
   "cell_type": "markdown",
   "metadata": {},
   "source": [
    "### Moving averages"
   ]
  },
  {
   "cell_type": "code",
   "execution_count": 5,
   "metadata": {},
   "outputs": [],
   "source": [
    "#50 period moving average\n",
    "df['50SMA'] = df['Close'].rolling(50).mean()\n",
    "\n",
    "#200 period moving average\n",
    "df['200SMA'] = df['Close'].rolling(200).mean()"
   ]
  },
  {
   "attachments": {},
   "cell_type": "markdown",
   "metadata": {},
   "source": [
    "### RSI"
   ]
  },
  {
   "cell_type": "code",
   "execution_count": 6,
   "metadata": {},
   "outputs": [],
   "source": [
    "def RSI(df, lookback):\n",
    "    deltas = np.diff(df)\n",
    "    seed = deltas[:lookback+1]\n",
    "    up = seed[seed>= 0].sum()/lookback\n",
    "    down = -seed[seed < 0].sum()/lookback\n",
    "    rs = up/down\n",
    "    rsi = np.zeros_like(df)\n",
    "    \n",
    "    for i in range(lookback, len(df)):\n",
    "        delta = deltas[i-1]\n",
    "\n",
    "        if delta > 0:\n",
    "            upval = delta\n",
    "            downval = 0.\n",
    "        if delta < 0:\n",
    "            upval = 0\n",
    "            downval=abs(delta)\n",
    "        up = (up * (lookback - 1) + upval) / lookback\n",
    "        down = (down * (lookback - 1) + downval) / lookback\n",
    "\n",
    "        rs = up/down\n",
    "        rsi[i] = 100. - 100./(1. +rs)\n",
    "\n",
    "    return rsi\n",
    "df['RSI'] = RSI(df['Close'], 14)\n",
    "    \n"
   ]
  },
  {
   "cell_type": "markdown",
   "metadata": {},
   "source": [
    "### Calculating on balance volume"
   ]
  },
  {
   "cell_type": "code",
   "execution_count": 22,
   "metadata": {},
   "outputs": [],
   "source": [
    "def onBalanceVolume(df, volume):\n",
    "    OBV_INTER = 0\n",
    "    counter = 0\n",
    "    OBV = np.array([0])\n",
    "    \n",
    "    for i in df:\n",
    "        try:\n",
    "            if df[counter + 1] > df[counter]:\n",
    "                OBV_INTER = OBV_INTER + volume[counter]\n",
    "                OBV = np.append(OBV, OBV_INTER)\n",
    "            elif df[counter + 1] < df [counter]:\n",
    "                OBV_INTER = OBV_INTER - volume[counter]\n",
    "                OBV = np.append(OBV, OBV_INTER)\n",
    "            elif df[counter + 1] == df[counter]:\n",
    "                OBV = np.append(OBV, volume[counter])\n",
    "            counter += 1\n",
    "        except:\n",
    "            break\n",
    "    \n",
    "    return OBV\n",
    "df['OBV'] = onBalanceVolume(df['Close'], df['Volume'])"
   ]
  },
  {
   "cell_type": "code",
   "execution_count": 6,
   "metadata": {},
   "outputs": [
    {
     "data": {
      "text/plain": [
       "(68672, 9)"
      ]
     },
     "execution_count": 6,
     "metadata": {},
     "output_type": "execute_result"
    }
   ],
   "source": [
    "df.shape"
   ]
  },
  {
   "cell_type": "markdown",
   "metadata": {},
   "source": [
    "## Method for windowing the data"
   ]
  },
  {
   "cell_type": "code",
   "execution_count": 15,
   "metadata": {},
   "outputs": [
    {
     "name": "stdout",
     "output_type": "stream",
     "text": [
      "0\n",
      "1000\n",
      "2000\n",
      "3000\n",
      "4000\n",
      "5000\n",
      "6000\n",
      "7000\n",
      "8000\n",
      "9000\n",
      "10000\n",
      "11000\n",
      "12000\n",
      "13000\n",
      "14000\n",
      "15000\n",
      "16000\n",
      "17000\n",
      "18000\n",
      "19000\n",
      "20000\n",
      "21000\n",
      "22000\n",
      "23000\n",
      "24000\n",
      "25000\n",
      "26000\n",
      "27000\n",
      "28000\n",
      "29000\n",
      "30000\n",
      "31000\n",
      "32000\n",
      "33000\n",
      "34000\n",
      "35000\n",
      "36000\n",
      "37000\n",
      "38000\n",
      "39000\n",
      "40000\n",
      "41000\n",
      "42000\n",
      "43000\n",
      "44000\n",
      "45000\n",
      "46000\n",
      "47000\n",
      "48000\n",
      "49000\n",
      "50000\n",
      "51000\n",
      "52000\n",
      "53000\n",
      "54000\n",
      "55000\n",
      "56000\n",
      "57000\n",
      "58000\n",
      "59000\n",
      "60000\n",
      "61000\n",
      "62000\n",
      "63000\n",
      "64000\n",
      "65000\n",
      "66000\n",
      "67000\n",
      "68000\n"
     ]
    }
   ],
   "source": [
    "def window_dataset(df, window_size):\n",
    "    A = 0\n",
    "    window_set = []\n",
    "    for i in range(len(df) - 100):\n",
    "        example = df[i: window_size + i]\n",
    "        window_set.append(np.expand_dims(example, 0))\n",
    "        if i % 1000 == 0:\n",
    "            print(i)\n",
    "    return torch.tensor(np.vstack(window_set)).transpose(-1,-2)\n",
    "df_expand = window_dataset(df, 100)"
   ]
  },
  {
   "cell_type": "code",
   "execution_count": 11,
   "metadata": {},
   "outputs": [
    {
     "data": {
      "text/plain": [
       "torch.Size([68572, 10, 100])"
      ]
     },
     "execution_count": 11,
     "metadata": {},
     "output_type": "execute_result"
    }
   ],
   "source": [
    "df_expand"
   ]
  },
  {
   "cell_type": "code",
   "execution_count": null,
   "metadata": {},
   "outputs": [],
   "source": []
  },
  {
   "cell_type": "code",
   "execution_count": null,
   "metadata": {},
   "outputs": [],
   "source": []
  }
 ],
 "metadata": {
  "kernelspec": {
   "display_name": "tf",
   "language": "python",
   "name": "python3"
  },
  "language_info": {
   "codemirror_mode": {
    "name": "ipython",
    "version": 3
   },
   "file_extension": ".py",
   "mimetype": "text/x-python",
   "name": "python",
   "nbconvert_exporter": "python",
   "pygments_lexer": "ipython3",
   "version": "3.10.10"
  },
  "orig_nbformat": 4
 },
 "nbformat": 4,
 "nbformat_minor": 2
}
